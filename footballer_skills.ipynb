{
 "cells": [
  {
   "cell_type": "markdown",
   "metadata": {},
   "source": [
    "# Software Development 1\n",
    "## Coursework 2\n",
    "### Last Updated: 15 November 2022 by Fakhreldin Saeed, Shekoufeh Rahimi and Arturo Araujo\n",
    "\n",
    "**The prestigious football club who originally hired our Software Development company is very pleased with the outcome and has requested an extension.** Taking the program that you have crafted for coursework 1, you are asked to add the following functionality (up to 72 points, depending on scoring an “Excellent” score in each rubric component):\n",
    "1.\tFunctions (8 points): Split and pack up your coursework 1 code into functions. The program must contain a main() function and at least two other functions called “calculate_rating()” and “calculate_salary()”.Use the main() function to call the other functions to receive the 6 player’s skill ratings, calculate the player’s score and their salary range.\n",
    "2.\tProgram expansion (8 points): Adjust your program to ask users to enter a player ID (2 digit number), name and date-of-birth (D.o.B) by sequence, before asking for the 6 skills from coursework 1 (speed, shooting, passing, defending, dribbling, physicality). D.o.B should be in ISO format YEAR-MONTH-DATE.\n",
    "3.\tLoop your code (8 points): Your program should use a loop to ask for the information of three players, or until the input for user ID is “end”. \n",
    "4.\tCalculate the players' overall ratings and store it for later use (2 points).\n",
    "5.\tCalculate the players' salary ranges and store it for later use (2 points).\n",
    "6.\tCalculate players' ages (8 points): According to each user’s year of birth, your program should calculate the age of the player and store it for later use. Hint: the library datetime can be used here to make your job easier.\n",
    "7.\tTabulate (8 points): Display a table that summarises the input data (ascending order with user ID) using the tabulate library. \n",
    "\n",
    "8.\tFile writing (8 points): Save the table into a new local file named “players.txt”\n",
    "9.\tMake sure that you a. Implement robust input validation for a player's ID, D.o.B., and ratings. Your program should give a warning that says \"The rating you entered was invalid\" for any input errors (6 points) b. Display use of appropriate data structures for storing player information (5 points) c. Display use of appropriate code structures for implementing the functionality (5 points)\n",
    "\n",
    "10.\tDistinction Advanced Function: Once everything in requirements 1-9 has been completed, for a distinction grade, extend your program with one more function called advanced(). This function should a.be a complimentary main() method that, instead of taking user input, uses the provided file as input. b.accept in its argument (filename) the name of the text file to read. c. read the user information record from the provided file “PlayerData.txt”, which contains player IDs, names, and date-of-births. The function should then use this data as the input for the program. d. call all the other functions used and produces a text file output (requirement 8)."
   ]
  },
  {
   "cell_type": "code",
   "execution_count": null,
   "metadata": {},
   "outputs": [],
   "source": [
    "# Name:\n",
    "# Student ID:\n",
    "# Date of last Update:\n"
   ]
  },
  {
   "cell_type": "code",
   "execution_count": null,
   "metadata": {},
   "outputs": [],
   "source": [
    "# Libraries needed\n",
    "import sys\n",
    "from datetime import date\n",
    "from tabulate import tabulate\n",
    "\n"
   ]
  },
  {
   "cell_type": "code",
   "execution_count": null,
   "metadata": {},
   "outputs": [],
   "source": [
    "# Function to calculate a player's rating taking in 6 scores and \n",
    "# outputting a number between 0 and 100\n",
    "def calculate_rating():\n",
    "# Write your code to calculate the payer's rating here\n",
    "    return overall_rating\n",
    "\n",
    "\n"
   ]
  },
  {
   "cell_type": "code",
   "execution_count": null,
   "metadata": {},
   "outputs": [],
   "source": [
    "# Function to calculate a player's rating taking in a player's rating between \n",
    "# 0 and 100 and otputting a salary range (one or two numbers) \n",
    "\n",
    "def calculate_salary(overall_rating):\n",
    "# Write your code to calculate salary range here\n",
    "    return salary\n",
    "\n",
    "\n"
   ]
  },
  {
   "cell_type": "code",
   "execution_count": null,
   "metadata": {},
   "outputs": [],
   "source": [
    "# Function to read in the supplied PlayersData.txt and calling all the other functions\n",
    "# Alternative main() function\n",
    "def advanced(text_file):\n",
    "# If attempting the advanced function, write your code here\n",
    "    overall_rating = calculate_rating()\n",
    "    salary = calculate_salary(overall_rating)\n",
    "\n",
    "# Run this insted of main() to read file \"PlayerData.txt\"and carry on the program\n",
    "advanced(\"PlayerData.txt\")"
   ]
  },
  {
   "cell_type": "code",
   "execution_count": null,
   "metadata": {},
   "outputs": [],
   "source": [
    "# Main function\n",
    "def main():\n",
    "# Write your code here\n",
    "    overall_rating = calculate_rating()\n",
    "    salary = calculate_salary(overall_rating)\n",
    "\n",
    "    \n",
    "# Execute code when the file runs as a script, but not when imported as a module    \n",
    "if __name__==\"__main__\":\n",
    "    sys.exit(main())"
   ]
  }
 ],
 "metadata": {
  "kernelspec": {
   "display_name": "Python 3",
   "language": "python",
   "name": "python3"
  },
  "language_info": {
   "codemirror_mode": {
    "name": "ipython",
    "version": 3
   },
   "file_extension": ".py",
   "mimetype": "text/x-python",
   "name": "python",
   "nbconvert_exporter": "python",
   "pygments_lexer": "ipython3",
   "version": "3.8.3"
  },
  "vscode": {
   "interpreter": {
    "hash": "b0fa6594d8f4cbf19f97940f81e996739fb7646882a419484c72d19e05852a7e"
   }
  }
 },
 "nbformat": 4,
 "nbformat_minor": 2
}
